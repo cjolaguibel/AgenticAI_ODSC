{
 "cells": [
  {
   "cell_type": "markdown",
   "metadata": {},
   "source": [
    "## Deep Research\n",
    "\n",
    "One of the classic cross-business Agentic use cases! This is huge."
   ]
  },
  {
   "cell_type": "markdown",
   "metadata": {},
   "source": [
    "<table style=\"margin: 0; text-align: left; width:100%\">\n",
    "    <tr>\n",
    "        <td style=\"width: 150px; height: 150px; vertical-align: middle;\">\n",
    "            <img src=\"../assets/business.png\" width=\"150\" height=\"150\" style=\"display: block;\" />\n",
    "        </td>\n",
    "        <td>\n",
    "            <h2 style=\"color:#00bfff;\">Commercial implications</h2>\n",
    "            <span style=\"color:#00bfff;\">A Deep Research agent is broadly applicable to any business area, and to your own day-to-day activities. You can make use of this yourself!\n",
    "            </span>\n",
    "        </td>\n",
    "    </tr>\n",
    "</table>"
   ]
  },
  {
   "cell_type": "code",
   "execution_count": 1,
   "metadata": {},
   "outputs": [],
   "source": [
    "# Imports\n",
    "\n",
    "from agents import Agent, WebSearchTool, trace, Runner, function_tool\n",
    "from agents.model_settings import ModelSettings\n",
    "from pydantic import BaseModel\n",
    "from dotenv import load_dotenv\n",
    "import asyncio\n",
    "import os\n",
    "from IPython.display import display, Markdown\n",
    "from pprint import pprint\n",
    "import requests\n",
    "load_dotenv(override=True)\n",
    "\n",
    "# Constants\n",
    "\n",
    "pushover_user = os.getenv(\"PUSHOVER_USER\")\n",
    "pushover_token = os.getenv(\"PUSHOVER_TOKEN\")\n",
    "pushover_url = \"https://api.pushover.net/1/messages.json\""
   ]
  },
  {
   "cell_type": "markdown",
   "metadata": {},
   "source": [
    "## OpenAI Hosted Tools\n",
    "\n",
    "OpenAI Agents SDK includes the following hosted tools:\n",
    "\n",
    "The `WebSearchTool` lets an agent search the web.  \n",
    "The `FileSearchTool` allows retrieving information from your OpenAI Vector Stores.  \n",
    "The `ComputerTool` allows automating computer use tasks like taking screenshots and clicking.\n",
    "\n",
    "### Important note - API charge of WebSearchTool\n",
    "\n",
    "This is costing me 2.5 cents per call for OpenAI WebSearchTool. That can add up to $2-$3 for the next 2 labs. We'll use low cost Search tools with other platforms, so feel free to skip running this if the cost is a concern.\n",
    "\n",
    "Costs are here: https://platform.openai.com/docs/pricing#web-search"
   ]
  },
  {
   "cell_type": "markdown",
   "metadata": {},
   "source": [
    "## We will be making 4 Agents:\n",
    "\n",
    "1. Search Agent - searches online given a search term using an OpenAI hosted tool\n",
    "2. Planner Agent - given a query from the user, come up with searches\n",
    "3. Report Agent - make a report on results\n",
    "4. Push Agent - send a notification to the user's phone with a summary\n",
    "\n",
    "## Our First Agent: Search Agent\n",
    "\n",
    "Given a Search term, search for it on the internet and summarize results."
   ]
  },
  {
   "cell_type": "code",
   "execution_count": 2,
   "metadata": {},
   "outputs": [],
   "source": [
    "INSTRUCTIONS = \"You are a research assistant. Given a search term, you search the web for that term and \\\n",
    "produce a concise summary of the results. The summary must 2-3 paragraphs and less than 300 \\\n",
    "words. Capture the main points. Write succintly, no need to have complete sentences or good \\\n",
    "grammar. This will be consumed by someone synthesizing a report, so it's vital you capture the \\\n",
    "essence and ignore any fluff. Do not include any additional commentary other than the summary itself.\"\n",
    "\n",
    "search_agent = Agent(\n",
    "    name=\"Search agent\",\n",
    "    instructions=INSTRUCTIONS,\n",
    "    tools=[WebSearchTool(search_context_size=\"low\")],\n",
    "    model=\"gpt-4.1-mini\",\n",
    "    model_settings=ModelSettings(tool_choice=\"required\"),\n",
    ")"
   ]
  },
  {
   "cell_type": "code",
   "execution_count": 3,
   "metadata": {},
   "outputs": [
    {
     "data": {
      "text/markdown": [
       "As of May 2025, several AI agent frameworks have gained prominence for their capabilities in developing sophisticated AI applications:\n",
       "\n",
       "**LangChain**: A leading open-source framework, LangChain simplifies the creation of applications powered by large language models (LLMs). It offers modular components for building complex workflows, integrating memory management, and interacting with external tools and APIs. LangChain supports multiple LLMs, including OpenAI and Hugging Face, making it versatile for various AI tasks. ([curotec.com](https://www.curotec.com/insights/top-ai-agent-frameworks/?utm_source=openai))\n",
       "\n",
       "**LangGraph**: Building upon LangChain, LangGraph focuses on stateful, multi-agent systems. It utilizes graph-based architectures to manage complex, multi-step tasks, facilitating advanced planning, reflection, and coordination among agents. This framework is particularly useful for applications requiring precise, sequential task execution, such as in healthcare or supply chain management. ([lekha-bhan88.medium.com](https://lekha-bhan88.medium.com/top-5-agentic-ai-frameworks-to-watch-in-2025-9d51b2b652c0?utm_source=openai))\n",
       "\n",
       "**CrewAI**: CrewAI is designed for orchestrating role-based AI agents, enabling the creation of teams where each agent specializes in specific tasks. It supports dynamic task planning, delegation, and inter-agent communication, making it suitable for complex, multi-step workflows. CrewAI is particularly beneficial for simulating human-like teamwork and collaboration in AI systems. ([chatbase.co](https://www.chatbase.co/blog/ai-agent-frameworks?utm_source=openai))\n",
       "\n",
       "These frameworks are at the forefront of AI agent development, offering robust tools for building intelligent, autonomous systems across various domains. "
      ],
      "text/plain": [
       "<IPython.core.display.Markdown object>"
      ]
     },
     "metadata": {},
     "output_type": "display_data"
    }
   ],
   "source": [
    "message = \"What are the most popular and successful AI Agent frameworks in May 2025\"\n",
    "\n",
    "with trace(\"Search\"):\n",
    "    result = await Runner.run(search_agent, message)\n",
    "\n",
    "display(Markdown(result.final_output))"
   ]
  },
  {
   "cell_type": "markdown",
   "metadata": {},
   "source": [
    "Take a look at the trace\n",
    "\n",
    "https://platform.openai.com/traces"
   ]
  },
  {
   "cell_type": "markdown",
   "metadata": {},
   "source": [
    "## Our Second Agent: Planner Agent\n",
    "\n",
    "Given a query, come up with 5 ideas for web searches that could be run.\n",
    "\n",
    "Use Structured Outputs as our way to ensure the Agent provides what we need."
   ]
  },
  {
   "cell_type": "code",
   "execution_count": 4,
   "metadata": {},
   "outputs": [],
   "source": [
    "# See note above about cost of WebSearchTool\n",
    "\n",
    "HOW_MANY_SEARCHES = 5\n",
    "\n",
    "INSTRUCTIONS = f\"You are a helpful research assistant. Given a query, come up with a set of web searches \\\n",
    "to perform to best answer the query. Output {HOW_MANY_SEARCHES} terms to query for.\"\n",
    "\n",
    "# We use Pydantic objects to describe the Schema of the output\n",
    "\n",
    "class WebSearchItem(BaseModel):\n",
    "    reason: str\n",
    "    \"Your reasoning for why this search is important to the query.\"\n",
    "\n",
    "    query: str\n",
    "    \"The search term to use for the web search.\"\n",
    "\n",
    "\n",
    "class WebSearchPlan(BaseModel):\n",
    "    searches: list[WebSearchItem]\n",
    "    \"\"\"A list of web searches to perform to best answer the query.\"\"\"\n",
    "\n",
    "# We pass in the Pydantic object to ensure the output follows the schema\n",
    "\n",
    "planner_agent = Agent(\n",
    "    name=\"PlannerAgent\",\n",
    "    instructions=INSTRUCTIONS,\n",
    "    model=\"gpt-4.1-mini\",\n",
    "    output_type=WebSearchPlan,\n",
    ")"
   ]
  },
  {
   "cell_type": "code",
   "execution_count": 5,
   "metadata": {},
   "outputs": [
    {
     "name": "stdout",
     "output_type": "stream",
     "text": [
      "WebSearchPlan(searches=[WebSearchItem(reason='Find up-to-date information about AI Agent frameworks popular in 2025', query='most popular AI agent frameworks 2025'), WebSearchItem(reason='Identify AI Agent frameworks with the highest success and adoption rates in 2025', query='successful AI agent frameworks 2025'), WebSearchItem(reason='Discover which AI Agent platforms or tools developers prefer in 2025', query='top AI agent platforms developers prefer 2025'), WebSearchItem(reason='Look for recent reviews or comparisons of AI Agent frameworks in 2025', query='AI agent framework comparison 2025'), WebSearchItem(reason='Search for expert blog articles or reports on AI agent framework trends in 2025', query='AI agent framework trends 2025')])\n"
     ]
    }
   ],
   "source": [
    "\n",
    "message = \"What are the most popular and successful AI Agent frameworks in May 2025\"\n",
    "\n",
    "with trace(\"Search\"):\n",
    "    result = await Runner.run(planner_agent, message)\n",
    "    pprint(result.final_output)"
   ]
  },
  {
   "cell_type": "markdown",
   "metadata": {},
   "source": [
    "## Our Third Agent: Writer Agent\n",
    "\n",
    "Take the results of internet searches and make a report"
   ]
  },
  {
   "cell_type": "code",
   "execution_count": 6,
   "metadata": {},
   "outputs": [],
   "source": [
    "INSTRUCTIONS = (\n",
    "    \"You are a senior researcher tasked with writing a cohesive report for a research query. \"\n",
    "    \"You will be provided with the original query, and some initial research done by a research assistant.\\n\"\n",
    "    \"You should first come up with an outline for the report that describes the structure and \"\n",
    "    \"flow of the report. Then, generate the report and return that as your final output.\\n\"\n",
    "    \"The final output should be in markdown format, and it should be lengthy and detailed. Aim \"\n",
    "    \"for 5-10 pages of content, at least 1000 words.\"\n",
    ")\n",
    "\n",
    "\n",
    "class ReportData(BaseModel):\n",
    "    short_summary: str\n",
    "    \"\"\"A short 2-3 sentence summary of the findings.\"\"\"\n",
    "\n",
    "    markdown_report: str\n",
    "    \"\"\"The final report\"\"\"\n",
    "\n",
    "    follow_up_questions: list[str]\n",
    "    \"\"\"Suggested topics to research further\"\"\"\n",
    "\n",
    "\n",
    "writer_agent = Agent(\n",
    "    name=\"WriterAgent\",\n",
    "    instructions=INSTRUCTIONS,\n",
    "    model=\"gpt-4o-mini\",\n",
    "    output_type=ReportData,\n",
    ")"
   ]
  },
  {
   "cell_type": "markdown",
   "metadata": {},
   "source": [
    "## Our Fourth Agent: push notification\n",
    "\n",
    "Just to show how easy it is to make a tool!\n",
    "\n",
    "I'm using a nifty product called PushOver - to set this up yourself, visit https://pushover.net"
   ]
  },
  {
   "cell_type": "code",
   "execution_count": 7,
   "metadata": {},
   "outputs": [],
   "source": [
    "@function_tool\n",
    "def push(message: str):\n",
    "    \"\"\"Send a push notification with this brief message\"\"\"\n",
    "    payload = {\"user\": pushover_user, \"token\": pushover_token, \"message\": message}\n",
    "    requests.post(pushover_url, data=payload)\n",
    "    return {\"status\": \"success\"}"
   ]
  },
  {
   "cell_type": "code",
   "execution_count": 8,
   "metadata": {},
   "outputs": [
    {
     "data": {
      "text/plain": [
       "FunctionTool(name='push', description='Send a push notification with this brief message', params_json_schema={'properties': {'message': {'title': 'Message', 'type': 'string'}}, 'required': ['message'], 'title': 'push_args', 'type': 'object', 'additionalProperties': False}, on_invoke_tool=<function function_tool.<locals>._create_function_tool.<locals>._on_invoke_tool at 0x000001A446FEA980>, strict_json_schema=True)"
      ]
     },
     "execution_count": 8,
     "metadata": {},
     "output_type": "execute_result"
    }
   ],
   "source": [
    "push"
   ]
  },
  {
   "cell_type": "code",
   "execution_count": 9,
   "metadata": {},
   "outputs": [],
   "source": [
    "INSTRUCTIONS = \"\"\"You are a member of a research team and will be provided with a short summary of a report.\n",
    "When you receive the report summary, you send a push notification to the user using your tool, informing them that research is complete,\n",
    "and including the report summary you receive\"\"\"\n",
    "\n",
    "\n",
    "push_agent = Agent(\n",
    "    name=\"Push agent\",\n",
    "    instructions=INSTRUCTIONS,\n",
    "    tools=[push],\n",
    "    model=\"gpt-4.1-mini\",\n",
    "    model_settings=ModelSettings(tool_choice=\"required\")\n",
    ")"
   ]
  },
  {
   "cell_type": "markdown",
   "metadata": {},
   "source": [
    "### The next 3 functions will plan and execute the search, using planner_agent and search_agent"
   ]
  },
  {
   "cell_type": "code",
   "execution_count": 10,
   "metadata": {},
   "outputs": [],
   "source": [
    "async def plan_searches(query: str):\n",
    "    \"\"\" Use the planner_agent to plan which searches to run for the query \"\"\"\n",
    "    print(\"Planning searches...\")\n",
    "    result = await Runner.run(planner_agent, f\"Query: {query}\")\n",
    "    print(f\"Will perform {len(result.final_output.searches)} searches\")\n",
    "    return result.final_output\n",
    "\n",
    "async def perform_searches(search_plan: WebSearchPlan):\n",
    "    \"\"\" Call search() for each item in the search plan \"\"\"\n",
    "    print(\"Searching...\")\n",
    "    tasks = [asyncio.create_task(search(item)) for item in search_plan.searches]\n",
    "    results = await asyncio.gather(*tasks)\n",
    "    print(\"Finished searching\")\n",
    "    return results\n",
    "\n",
    "async def search(item: WebSearchItem):\n",
    "    \"\"\" Use the search agent to run a web search for each item in the search plan \"\"\"\n",
    "    input = f\"Search term: {item.query}\\nReason for searching: {item.reason}\"\n",
    "    result = await Runner.run(search_agent, input)\n",
    "    return result.final_output"
   ]
  },
  {
   "cell_type": "markdown",
   "metadata": {},
   "source": [
    "### The next 2 functions write a report and send a push notification"
   ]
  },
  {
   "cell_type": "code",
   "execution_count": 11,
   "metadata": {},
   "outputs": [],
   "source": [
    "async def write_report(query: str, search_results: list[str]):\n",
    "    \"\"\" Use the writer agent to write a report based on the search results\"\"\"\n",
    "    print(\"Thinking about report...\")\n",
    "    input = f\"Original query: {query}\\nSummarized search results: {search_results}\"\n",
    "    result = await Runner.run(writer_agent, input)\n",
    "    print(\"Finished writing report\")\n",
    "    return result.final_output\n",
    "\n",
    "async def send_push(report: ReportData):\n",
    "    \"\"\" Use the push agent to send a notification to the user \"\"\"\n",
    "    print(\"Pushing...\")\n",
    "    result = await Runner.run(push_agent, report.short_summary)\n",
    "    print(\"Push sent\")\n",
    "    return report"
   ]
  },
  {
   "cell_type": "markdown",
   "metadata": {},
   "source": [
    "### Showtime!"
   ]
  },
  {
   "cell_type": "code",
   "execution_count": 12,
   "metadata": {},
   "outputs": [
    {
     "name": "stdout",
     "output_type": "stream",
     "text": [
      "Starting research...\n",
      "Planning searches...\n",
      "Will perform 5 searches\n",
      "Searching...\n",
      "Finished searching\n",
      "Thinking about report...\n",
      "Finished writing report\n",
      "Pushing...\n",
      "Push sent\n",
      "Hooray!\n"
     ]
    },
    {
     "data": {
      "text/markdown": [
       "# Report on Popular and Successful AI Agent Frameworks (May 2025)\n",
       "\n",
       "## Table of Contents\n",
       "\n",
       "1. **Introduction**  \n",
       "2. **Overview of AI Agent Frameworks**  \n",
       "   - 2.1 Criteria for Selection  \n",
       "3. **Leading AI Agent Frameworks**  \n",
       "   - 3.1 LangChain  \n",
       "   - 3.2 LangGraph  \n",
       "   - 3.3 CrewAI  \n",
       "   - 3.4 Microsoft AutoGen  \n",
       "   - 3.5 Letta  \n",
       "   - 3.6 Other Notable Frameworks  \n",
       "4. **Comparative Analysis**  \n",
       "   - 4.1 Strengths and Weaknesses  \n",
       "   - 4.2 Use Cases  \n",
       "5. **Future Trends in AI Agent Frameworks**  \n",
       "6. **Conclusion**  \n",
       "7. **References**  \n",
       "\n",
       "---  \n",
       "\n",
       "## 1. Introduction  \n",
       "In recent years, Artificial Intelligence (AI) has seen substantial advancements, particularly in the development of AI agents capable of executing complex tasks autonomously. These agents are powered by sophisticated machine learning algorithms and frameworks that allow for a robust application in several sectors, ranging from customer service to strategic planning. As of May 2025, several frameworks have gained strong traction in this area. This report aims to provide an in-depth analysis of these leading frameworks, highlighting their features, advantages, and applicability in real-world scenarios.\n",
       "\n",
       "## 2. Overview of AI Agent Frameworks  \n",
       "### 2.1 Criteria for Selection  \n",
       "The selection of an AI agent framework depends on various criteria, including:\n",
       "- **Modularity**: Ability to break complex systems into simpler, manageable components.\n",
       "- **Integration Capabilities**: Compatibility with existing technologies and systems.\n",
       "- **Community Support and Resources**: Availability of third-party plugins, tutorials, and community forums.\n",
       "- **Scalability**: The framework's ability to handle increasing amounts of work or expand its capabilities.\n",
       "- **Simplicity of Use**: User interface, documentation, and ease of learning for developers.\n",
       "\n",
       "## 3. Leading AI Agent Frameworks  \n",
       "### 3.1 LangChain  \n",
       "LangChain is recognized for its versatility, designed for building applications utilizing Large Language Models (LLMs). Its modular structure simplifies the implementation of workflows, emphasizing context management for tasks ranging from conversational AI to document analysis. Integration with various LLMs, including those from OpenAI and Hugging Face, positions it as a premier choice among developers. However, users report challenges with performance as the system’s complexity increases, alongside a steep learning curve due to the number of features offered ([Curotec](https://www.curotec.com)).\n",
       "\n",
       "### 3.2 LangGraph  \n",
       "As an extension of LangChain, LangGraph introduces a graph-based architecture facilitating coordination among multiple agents. With advanced error-handling and visual workflow design, it excels in applications requiring collaborative storytelling or the management of multi-agent systems. Though powerful, developers have noted that it may require a more significant upfront investment to grasp fully, given its complex architecture ([Curotec](https://www.curotec.com)).\n",
       "\n",
       "### 3.3 CrewAI  \n",
       "CrewAI focuses on role-based collaboration among AI agents, allowing each to take on specific roles, enhancing the overall teamwork of the system. Its dynamic task planning and inter-agent communication protocols make it suitable for applications requiring human-like decision-making processes. Users appreciate its straightforward implementation, but the newer framework lacks extensive third-party resources and integrations compared to more established options ([Chatbase](https://www.chatbase.co)).\n",
       "\n",
       "### 3.4 Microsoft AutoGen  \n",
       "Microsoft AutoGen simplifies the development of multi-agent conversations through its open-source framework. The design supports collaborative problem-solving, making it well-suited for tasks requiring real-time interactions. However, feedback indicates some challenges concerning debugging and limitations in its conversational depth, leading to a slower adoption rate compared to competitors ([Acorn](https://www.acorn.io)).\n",
       "\n",
       "### 3.5 Letta  \n",
       "Letta caters to the swift prototyping of modular AI solutions. It integrates seamlessly with various AI libraries, catering especially well to small to medium-scale applications in sectors such as educational technologies. Its high degree of modularity allows for customization and scalability; nonetheless, it can pose challenges during implementation due to its need for a certain level of technical expertise ([Heliverse](https://www.heliverse.com)).\n",
       "\n",
       "### 3.6 Other Notable Frameworks  \n",
       "- **OpenAI Agents SDK**: Offers structured tools for building reasoning and planning agents.\n",
       "- **Smolagents**: Specialized in minimalist, lightweight agents for quick computational tasks, noted for their ease of use but limited in scalability.\n",
       "- **Agno**: Focuses on multimodal capabilities, praised for its agility but criticized for its complexity in setup ([Langfuse](https://langfuse.com)).\n",
       "\n",
       "## 4. Comparative Analysis  \n",
       "### 4.1 Strengths and Weaknesses  \n",
       "Each framework has specific strengths and weaknesses:\n",
       "- **LangChain**: Strong community support, flexible, but complex for new users.\n",
       "- **CrewAI**: Excellent for structured task allocation, but less third-party integration.\n",
       "- **AutoGen**: Great for dynamic interactions but reported issues during debugging.\n",
       "- **Letta**: Ideal for rapid prototyping but may overwhelm new users.\n",
       "\n",
       "### 4.2 Use Cases  \n",
       "- **LangChain**: Effective for research tools and document analysis.\n",
       "- **LangGraph**: Best for multi-agent storytelling and strategic planning.\n",
       "- **CrewAI**: Roles in marketing strategy automation and project management.\n",
       "- **AutoGen**: Applicable in developing conversational agents and technical support AI.\n",
       "\n",
       "## 5. Future Trends in AI Agent Frameworks  \n",
       "The AI landscape is continually evolving. Key trends expected to influence the development of AI agent frameworks include:\n",
       "- **Increased Focus on Edge Computing**: As organizations seek to process data locally for faster response times, frameworks that support edge solutions will gain prominence.\n",
       "- **Interoperability Among Frameworks**: The demand for systems capable of collaborating across different frameworks is rising, prompting developers to focus on cross-compatibility in upcoming versions.\n",
       "- **Enhanced User Experience**: As the complexity of AI systems increases, the need for intuitive, user-friendly frameworks will drive design decisions.\n",
       "\n",
       "## 6. Conclusion  \n",
       "As of May 2025, AI agent frameworks are at the forefront of AI development, with several frameworks offering diverse capabilities tailored to various application needs. LangChain, LangGraph, and CrewAI stand out for their unique functionalities and market adoption. When selecting an AI agent framework, developers must consider their specific needs, as each framework provides distinct advantages that cater to different scenarios.\n",
       "\n",
       "## 7. References  \n",
       "- Curotec. (2025). Top AI Agent Frameworks. Available at: [Curotec](https://www.curotec.com/insights/top-ai-agent-frameworks/?utm_source=openai)\n",
       "- Chatbase. (2025). AI Agent Frameworks Analysis. Available at: [Chatbase](https://www.chatbase.co/blog/ai-agent-frameworks?utm_source=openai)\n",
       "- Acorn. (2025). Understanding Microsoft AutoGen. Available at: [Acorn](https://www.acorn.io/resources/learning-center/ai-agent-frameworks?utm_source=openai)\n",
       "- Heliverse. (2025). Top AI Agent Frameworks for Developers. Available at: [Heliverse](https://www.heliverse.com/blog/top-5-ai-agent-frameworks-2025?utm_source=openai)\n",
       "- Langfuse. (2025). Comprehensive Comparison of AI Agent Frameworks. Available at: [Langfuse](https://langfuse.com/blog/2025-03-19-ai-agent-comparison?utm_source=openai)\n",
       "\n",
       "---"
      ],
      "text/plain": [
       "<IPython.core.display.Markdown object>"
      ]
     },
     "metadata": {},
     "output_type": "display_data"
    }
   ],
   "source": [
    "query =\"What are the most popular and successful AI Agent frameworks in May 2025\"\n",
    "\n",
    "with trace(\"Research trace\"):\n",
    "    print(\"Starting research...\")\n",
    "    search_plan = await plan_searches(query)\n",
    "    search_results = await perform_searches(search_plan)\n",
    "    report = await write_report(query, search_results)\n",
    "    await send_push(report)  \n",
    "    print(\"Hooray!\")\n",
    "display(Markdown(report.markdown_report))"
   ]
  },
  {
   "cell_type": "markdown",
   "metadata": {},
   "source": [
    "### As always, take a look at the trace\n",
    "\n",
    "https://platform.openai.com/traces"
   ]
  }
 ],
 "metadata": {
  "kernelspec": {
   "display_name": ".venv",
   "language": "python",
   "name": "python3"
  },
  "language_info": {
   "codemirror_mode": {
    "name": "ipython",
    "version": 3
   },
   "file_extension": ".py",
   "mimetype": "text/x-python",
   "name": "python",
   "nbconvert_exporter": "python",
   "pygments_lexer": "ipython3",
   "version": "3.12.3"
  }
 },
 "nbformat": 4,
 "nbformat_minor": 2
}
